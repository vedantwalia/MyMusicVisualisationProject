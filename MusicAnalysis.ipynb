{
 "cells": [
  {
   "cell_type": "code",
   "execution_count": 1,
   "metadata": {},
   "outputs": [
    {
     "name": "stderr",
     "output_type": "stream",
     "text": [
      "/Users/vedantwalia/Library/Python/3.9/lib/python/site-packages/urllib3/__init__.py:35: NotOpenSSLWarning: urllib3 v2 only supports OpenSSL 1.1.1+, currently the 'ssl' module is compiled with 'LibreSSL 2.8.3'. See: https://github.com/urllib3/urllib3/issues/3020\n",
      "  warnings.warn(\n"
     ]
    }
   ],
   "source": [
    "import pandas as pd\n",
    "import numpy as np\n",
    "from lxml import objectify\n",
    "import xml.etree.ElementTree as ET\n",
    "import requests\n",
    "import seaborn as sns\n",
    "from matplotlib import pyplot as plt\n",
    "from matplotlib import style\n",
    "import os\n",
    "import re\n",
    "import pycats\n",
    "import warnings\n",
    "warnings.filterwarnings(\"ignore\")"
   ]
  },
  {
   "cell_type": "code",
   "execution_count": 2,
   "metadata": {},
   "outputs": [
    {
     "data": {
      "text/plain": [
       "<Element 'plist' at 0x14eea46d0>"
      ]
     },
     "execution_count": 2,
     "metadata": {},
     "output_type": "execute_result"
    }
   ],
   "source": [
    "tree = ET.parse('Library.xml')\n",
    "root = tree.getroot()\n",
    "root"
   ]
  },
  {
   "cell_type": "code",
   "execution_count": 3,
   "metadata": {},
   "outputs": [
    {
     "name": "stdout",
     "output_type": "stream",
     "text": [
      "index #0 = <key>\n",
      "index #1 = <integer>\n",
      "index #2 = <key>\n",
      "index #3 = <integer>\n",
      "index #4 = <key>\n",
      "index #5 = <date>\n",
      "index #6 = <key>\n",
      "index #7 = <string>\n",
      "index #8 = <key>\n",
      "index #9 = <integer>\n",
      "index #10 = <key>\n",
      "index #11 = <true>\n",
      "index #12 = <key>\n",
      "index #13 = <string>\n",
      "index #14 = <key>\n",
      "index #15 = <string>\n",
      "index #16 = <key>\n",
      "index #17 = <dict>\n",
      "The tracks dict has been found!\n"
     ]
    }
   ],
   "source": [
    "main_dict=root.findall('dict')\n",
    "\n",
    "for index, item in enumerate(list(main_dict[0])):  \n",
    "    print('index #{} = <{}>'.format(index, item.tag))\n",
    "    if item.tag==\"dict\":\n",
    "        print('The tracks dict has been found!')\n",
    "        tracks_dict=item\n",
    "        break\n"
   ]
  },
  {
   "cell_type": "code",
   "execution_count": 4,
   "metadata": {},
   "outputs": [
    {
     "data": {
      "text/plain": [
       "6487"
      ]
     },
     "execution_count": 4,
     "metadata": {},
     "output_type": "execute_result"
    }
   ],
   "source": [
    "tracklist = list(tracks_dict.findall('dict'))\n",
    "len(tracklist)"
   ]
  },
  {
   "cell_type": "code",
   "execution_count": 5,
   "metadata": {},
   "outputs": [
    {
     "data": {
      "text/plain": [
       "0             MPEG-4 video file\n",
       "1      Purchased AAC audio file\n",
       "2                AAC audio file\n",
       "3    Apple Music AAC audio file\n",
       "4               MPEG audio file\n",
       "dtype: object"
      ]
     },
     "execution_count": 5,
     "metadata": {},
     "output_type": "execute_result"
    }
   ],
   "source": [
    "kinds = set([])\n",
    "for i in range(len(tracklist)):\n",
    "    for j in range(len(tracklist[i])):\n",
    "        if (tracklist[i][j].tag == 'key' and tracklist[i][j].text== 'Kind'):\n",
    "            kinds.add(tracklist[i][j+1].text)\n",
    "\n",
    "kinds = pd.Series(list(kinds))\n",
    "kinds"
   ]
  },
  {
   "cell_type": "code",
   "execution_count": 6,
   "metadata": {},
   "outputs": [],
   "source": [
    "valid_datatypes = pd.Series([\n",
    "    'AAC audio file',\n",
    "    'MPEG audio file',\n",
    "    'MPEG audio file',\n",
    "    'Apple Music AAC audio file'\n",
    "])"
   ]
  },
  {
   "cell_type": "code",
   "execution_count": 7,
   "metadata": {},
   "outputs": [
    {
     "data": {
      "text/plain": [
       "{'Album',\n",
       " 'Album Artist',\n",
       " 'Album Loved',\n",
       " 'Apple Music',\n",
       " 'Artist',\n",
       " 'Artwork Count',\n",
       " 'Bit Rate',\n",
       " 'Clean',\n",
       " 'Compilation',\n",
       " 'Composer',\n",
       " 'Date Added',\n",
       " 'Date Modified',\n",
       " 'Disc Count',\n",
       " 'Disc Number',\n",
       " 'Explicit',\n",
       " 'Favorited',\n",
       " 'Genre',\n",
       " 'Kind',\n",
       " 'Loved',\n",
       " 'Name',\n",
       " 'Normalization',\n",
       " 'Part Of Gapless Album',\n",
       " 'Persistent ID',\n",
       " 'Play Count',\n",
       " 'Play Date',\n",
       " 'Play Date UTC',\n",
       " 'Playlist Only',\n",
       " 'Purchased',\n",
       " 'Release Date',\n",
       " 'Sample Rate',\n",
       " 'Size',\n",
       " 'Skip Count',\n",
       " 'Skip Date',\n",
       " 'Sort Album',\n",
       " 'Sort Album Artist',\n",
       " 'Sort Artist',\n",
       " 'Sort Composer',\n",
       " 'Sort Name',\n",
       " 'Total Time',\n",
       " 'Track Count',\n",
       " 'Track ID',\n",
       " 'Track Number',\n",
       " 'Track Type',\n",
       " 'Year'}"
      ]
     },
     "execution_count": 7,
     "metadata": {},
     "output_type": "execute_result"
    }
   ],
   "source": [
    "# This code will retrieve all the 'keys' (attributes) of the first track of the corresponding Kind\n",
    "def cols(kind):\n",
    "    cols = []\n",
    "    kind_found = False\n",
    "    for i in range(len(tracklist)):\n",
    "        for j in range(len(tracklist[i])):\n",
    "            if tracklist[i][j].tag == \"key\":\n",
    "                cols.append(tracklist[i][j].text)\n",
    "            if (j < len(tracklist[i]) - 1 and tracklist[i][j].text == \"Kind\" and tracklist[i][j + 1].text == kind):\n",
    "                kind_found = True\n",
    "                break  # Once the kind is found, break the inner loop\n",
    "        if kind_found:\n",
    "            return set(cols)  # Return the set of columns if kind is found\n",
    "\n",
    "# Sample usage\n",
    "cols('AAC audio file')\n"
   ]
  },
  {
   "cell_type": "code",
   "execution_count": 8,
   "metadata": {},
   "outputs": [
    {
     "data": {
      "text/plain": [
       "[['Sample Rate',\n",
       "  'Favorited',\n",
       "  'Artwork Count',\n",
       "  'Sort Artist',\n",
       "  'Play Date UTC',\n",
       "  'Artist',\n",
       "  'Total Time',\n",
       "  'Size',\n",
       "  'Year',\n",
       "  'Track Count',\n",
       "  'Sort Name',\n",
       "  'Date Added',\n",
       "  'Album Artist',\n",
       "  'Album',\n",
       "  'Loved',\n",
       "  'Disc Number',\n",
       "  'Explicit',\n",
       "  'Sort Composer',\n",
       "  'Date Modified',\n",
       "  'Play Date',\n",
       "  'Track Type',\n",
       "  'Purchased',\n",
       "  'Playlist Only',\n",
       "  'Album Loved',\n",
       "  'Track Number',\n",
       "  'Persistent ID',\n",
       "  'Apple Music',\n",
       "  'Sort Album Artist',\n",
       "  'Compilation',\n",
       "  'Skip Date',\n",
       "  'Clean',\n",
       "  'Release Date',\n",
       "  'Genre',\n",
       "  'Sort Album',\n",
       "  'Normalization',\n",
       "  'Part Of Gapless Album',\n",
       "  'Bit Rate',\n",
       "  'Skip Count',\n",
       "  'Track ID',\n",
       "  'Name',\n",
       "  'Kind',\n",
       "  'Play Count',\n",
       "  'Disc Count',\n",
       "  'Composer'],\n",
       " ['Sample Rate',\n",
       "  'Favorited',\n",
       "  'Matched',\n",
       "  'Artwork Count',\n",
       "  'Sort Artist',\n",
       "  'Play Date UTC',\n",
       "  'Artist',\n",
       "  'Total Time',\n",
       "  'Size',\n",
       "  'Year',\n",
       "  'Track Count',\n",
       "  'Sort Name',\n",
       "  'Date Added',\n",
       "  'Album Artist',\n",
       "  'Album',\n",
       "  'Loved',\n",
       "  'Disc Number',\n",
       "  'Explicit',\n",
       "  'Sort Composer',\n",
       "  'Date Modified',\n",
       "  'Play Date',\n",
       "  'Track Type',\n",
       "  'Purchased',\n",
       "  'Playlist Only',\n",
       "  'Album Loved',\n",
       "  'Track Number',\n",
       "  'Persistent ID',\n",
       "  'Apple Music',\n",
       "  'Sort Album Artist',\n",
       "  'Compilation',\n",
       "  'Skip Date',\n",
       "  'Clean',\n",
       "  'Release Date',\n",
       "  'Genre',\n",
       "  'Sort Album',\n",
       "  'Normalization',\n",
       "  'Disliked',\n",
       "  'Part Of Gapless Album',\n",
       "  'Bit Rate',\n",
       "  'Skip Count',\n",
       "  'Track ID',\n",
       "  'Name',\n",
       "  'Kind',\n",
       "  'Play Count',\n",
       "  'Disc Count',\n",
       "  'Grouping',\n",
       "  'Composer'],\n",
       " ['Sample Rate',\n",
       "  'Favorited',\n",
       "  'Matched',\n",
       "  'Artwork Count',\n",
       "  'Sort Artist',\n",
       "  'Play Date UTC',\n",
       "  'Artist',\n",
       "  'Total Time',\n",
       "  'Size',\n",
       "  'Year',\n",
       "  'Track Count',\n",
       "  'Sort Name',\n",
       "  'Date Added',\n",
       "  'Album Artist',\n",
       "  'Album',\n",
       "  'Loved',\n",
       "  'Disc Number',\n",
       "  'Explicit',\n",
       "  'Sort Composer',\n",
       "  'Date Modified',\n",
       "  'Play Date',\n",
       "  'Track Type',\n",
       "  'Purchased',\n",
       "  'Playlist Only',\n",
       "  'Album Loved',\n",
       "  'Track Number',\n",
       "  'Persistent ID',\n",
       "  'Apple Music',\n",
       "  'Sort Album Artist',\n",
       "  'Compilation',\n",
       "  'Skip Date',\n",
       "  'Clean',\n",
       "  'Release Date',\n",
       "  'Genre',\n",
       "  'Sort Album',\n",
       "  'Normalization',\n",
       "  'Disliked',\n",
       "  'Part Of Gapless Album',\n",
       "  'Bit Rate',\n",
       "  'Skip Count',\n",
       "  'Track ID',\n",
       "  'Name',\n",
       "  'Kind',\n",
       "  'Play Count',\n",
       "  'Disc Count',\n",
       "  'Grouping',\n",
       "  'Composer'],\n",
       " ['Track ID',\n",
       "  'Name',\n",
       "  'Kind',\n",
       "  'Album Artist',\n",
       "  'Album',\n",
       "  'Artist',\n",
       "  'Genre',\n",
       "  'Composer']]"
      ]
     },
     "execution_count": 8,
     "metadata": {},
     "output_type": "execute_result"
    }
   ],
   "source": [
    "results = map(cols, valid_datatypes)\n",
    "results_list = [list(item) for item in results]\n",
    "results_list"
   ]
  },
  {
   "cell_type": "code",
   "execution_count": 9,
   "metadata": {},
   "outputs": [
    {
     "name": "stdout",
     "output_type": "stream",
     "text": [
      "{'Sample Rate', 'Favorited', 'Matched', 'Artwork Count', 'Sort Artist', 'Play Date UTC', 'Artist', 'Total Time', 'Size', 'Year', 'Track Count', 'Sort Name', 'Date Added', 'Album Artist', 'Album', 'Loved', 'Disc Number', 'Explicit', 'Sort Composer', 'Date Modified', 'Play Date', 'Track Type', 'Purchased', 'Playlist Only', 'Album Loved', 'Track Number', 'Persistent ID', 'Apple Music', 'Sort Album Artist', 'Compilation', 'Skip Date', 'Clean', 'Release Date', 'Genre', 'Sort Album', 'Normalization', 'Disliked', 'Part Of Gapless Album', 'Bit Rate', 'Skip Count', 'Track ID', 'Name', 'Kind', 'Play Count', 'Disc Count', 'Grouping', 'Composer'}\n"
     ]
    }
   ],
   "source": [
    "flat_list=[]\n",
    "\n",
    "for item in results_list:\n",
    "  for sub_item in item:\n",
    "    flat_list.append(sub_item)\n",
    "\n",
    "unique_cols = set(flat_list) # set funcation gives unique items list\n",
    "\n",
    "print(unique_cols)\n",
    "\n"
   ]
  },
  {
   "cell_type": "code",
   "execution_count": 10,
   "metadata": {},
   "outputs": [
    {
     "data": {
      "text/plain": [
       "47"
      ]
     },
     "execution_count": 10,
     "metadata": {},
     "output_type": "execute_result"
    }
   ],
   "source": [
    "len(unique_cols) # superset of all common unique entries between all the filetypes"
   ]
  },
  {
   "cell_type": "code",
   "execution_count": 11,
   "metadata": {},
   "outputs": [],
   "source": [
    "unique_cols_list = list(unique_cols)\n",
    "\n",
    "df_tracks=pd.DataFrame(columns=unique_cols_list)\n",
    "\n",
    "dict1={}\n",
    "\n",
    "for song_i in range(len(tracklist)):\n",
    "  for attribute_i in range(len(tracklist[song_i])):\n",
    "    if tracklist[song_i][attribute_i].tag==\"key\":\n",
    "      dict1[tracklist[song_i][attribute_i].text]=tracklist[song_i][attribute_i+1].text\n",
    "  list_values=[i for i in dict1.values()]\n",
    "  list_keys=[j for j in dict1.keys()]\n",
    "  if dict1['Kind'] in valid_datatypes.unique():\n",
    "    df_temp=pd.DataFrame([list_values],columns=list_keys)\n",
    "    df_tracks=pd.concat([df_tracks,df_temp],axis=0,ignore_index=True,sort=True)"
   ]
  },
  {
   "cell_type": "code",
   "execution_count": 12,
   "metadata": {},
   "outputs": [],
   "source": [
    "df_tracks[['Play Count']] = df_tracks[['Play Count']].apply(pd.to_numeric)"
   ]
  },
  {
   "cell_type": "code",
   "execution_count": 13,
   "metadata": {},
   "outputs": [
    {
     "data": {
      "text/html": [
       "<div>\n",
       "<style scoped>\n",
       "    .dataframe tbody tr th:only-of-type {\n",
       "        vertical-align: middle;\n",
       "    }\n",
       "\n",
       "    .dataframe tbody tr th {\n",
       "        vertical-align: top;\n",
       "    }\n",
       "\n",
       "    .dataframe thead th {\n",
       "        text-align: right;\n",
       "    }\n",
       "</style>\n",
       "<table border=\"1\" class=\"dataframe\">\n",
       "  <thead>\n",
       "    <tr style=\"text-align: right;\">\n",
       "      <th></th>\n",
       "      <th>Name</th>\n",
       "      <th>Artist</th>\n",
       "      <th>Play Count</th>\n",
       "      <th>Genre</th>\n",
       "    </tr>\n",
       "  </thead>\n",
       "  <tbody>\n",
       "    <tr>\n",
       "      <th>4555</th>\n",
       "      <td>Save Your Tears (Remix)</td>\n",
       "      <td>The Weeknd &amp; Ariana Grande</td>\n",
       "      <td>112.0</td>\n",
       "      <td>R&amp;B/Soul</td>\n",
       "    </tr>\n",
       "    <tr>\n",
       "      <th>4857</th>\n",
       "      <td>Self Love (Spider-Man: Across the Spider-Verse)</td>\n",
       "      <td>Metro Boomin &amp; Coi Leray</td>\n",
       "      <td>98.0</td>\n",
       "      <td>Hip-Hop/Rap</td>\n",
       "    </tr>\n",
       "    <tr>\n",
       "      <th>4510</th>\n",
       "      <td>Wish On An Eyelash, Pt. 2</td>\n",
       "      <td>Mallrat &amp; The Chainsmokers</td>\n",
       "      <td>83.0</td>\n",
       "      <td>Alternative</td>\n",
       "    </tr>\n",
       "    <tr>\n",
       "      <th>4476</th>\n",
       "      <td>Eyes Wide Shut</td>\n",
       "      <td>ILLENIUM, Avril Lavigne &amp; Travis Barker</td>\n",
       "      <td>78.0</td>\n",
       "      <td>Dance</td>\n",
       "    </tr>\n",
       "    <tr>\n",
       "      <th>4813</th>\n",
       "      <td>Electric Touch (Taylor's Ve rsion) (From The V...</td>\n",
       "      <td>Taylor Swift</td>\n",
       "      <td>70.0</td>\n",
       "      <td>Pop</td>\n",
       "    </tr>\n",
       "    <tr>\n",
       "      <th>...</th>\n",
       "      <td>...</td>\n",
       "      <td>...</td>\n",
       "      <td>...</td>\n",
       "      <td>...</td>\n",
       "    </tr>\n",
       "    <tr>\n",
       "      <th>126</th>\n",
       "      <td>The Stranger</td>\n",
       "      <td>Ingrid Andress</td>\n",
       "      <td>NaN</td>\n",
       "      <td>Country</td>\n",
       "    </tr>\n",
       "    <tr>\n",
       "      <th>127</th>\n",
       "      <td>Chemical</td>\n",
       "      <td>Post Malone</td>\n",
       "      <td>NaN</td>\n",
       "      <td>Pop</td>\n",
       "    </tr>\n",
       "    <tr>\n",
       "      <th>128</th>\n",
       "      <td>Too Far Gone?</td>\n",
       "      <td>Metallica</td>\n",
       "      <td>NaN</td>\n",
       "      <td>Metal</td>\n",
       "    </tr>\n",
       "    <tr>\n",
       "      <th>129</th>\n",
       "      <td>Gangsta's Paradise (feat. L.V.)</td>\n",
       "      <td>Coolio</td>\n",
       "      <td>NaN</td>\n",
       "      <td>Hip-Hop/Rap</td>\n",
       "    </tr>\n",
       "    <tr>\n",
       "      <th>130</th>\n",
       "      <td>Break With Me</td>\n",
       "      <td>SHY Martin</td>\n",
       "      <td>NaN</td>\n",
       "      <td>Pop</td>\n",
       "    </tr>\n",
       "  </tbody>\n",
       "</table>\n",
       "<p>6467 rows × 4 columns</p>\n",
       "</div>"
      ],
      "text/plain": [
       "                                                   Name  \\\n",
       "4555                            Save Your Tears (Remix)   \n",
       "4857    Self Love (Spider-Man: Across the Spider-Verse)   \n",
       "4510                          Wish On An Eyelash, Pt. 2   \n",
       "4476                                     Eyes Wide Shut   \n",
       "4813  Electric Touch (Taylor's Ve rsion) (From The V...   \n",
       "...                                                 ...   \n",
       "126                                        The Stranger   \n",
       "127                                            Chemical   \n",
       "128                                       Too Far Gone?   \n",
       "129                     Gangsta's Paradise (feat. L.V.)   \n",
       "130                                       Break With Me   \n",
       "\n",
       "                                       Artist  Play Count        Genre  \n",
       "4555               The Weeknd & Ariana Grande       112.0     R&B/Soul  \n",
       "4857                 Metro Boomin & Coi Leray        98.0  Hip-Hop/Rap  \n",
       "4510               Mallrat & The Chainsmokers        83.0  Alternative  \n",
       "4476  ILLENIUM, Avril Lavigne & Travis Barker        78.0        Dance  \n",
       "4813                             Taylor Swift        70.0          Pop  \n",
       "...                                       ...         ...          ...  \n",
       "126                            Ingrid Andress         NaN      Country  \n",
       "127                               Post Malone         NaN          Pop  \n",
       "128                                 Metallica         NaN        Metal  \n",
       "129                                    Coolio         NaN  Hip-Hop/Rap  \n",
       "130                                SHY Martin         NaN          Pop  \n",
       "\n",
       "[6467 rows x 4 columns]"
      ]
     },
     "execution_count": 13,
     "metadata": {},
     "output_type": "execute_result"
    }
   ],
   "source": [
    "top_songs=(df_tracks.sort_values(by='Play Count', ascending=False)[['Name', 'Artist', 'Play Count', 'Genre']])\n",
    "\n",
    "top_songs"
   ]
  },
  {
   "cell_type": "code",
   "execution_count": 14,
   "metadata": {},
   "outputs": [
    {
     "data": {
      "image/png": "[encoded data removed]",
      "text/plain": [
       "<Figure size 700x500 with 1 Axes>"
      ]
     },
     "metadata": {},
     "output_type": "display_data"
    }
   ],
   "source": [
    "plt.clf()\n",
    "ax=sns.barplot(x='Play Count',\n",
    "            y='Name',\n",
    "            hue='Artist',\n",
    "            data=top_songs.head(10),\n",
    "            dodge=False,\n",
    "            palette=sns.color_palette(\"Set1\"))\n",
    "ax.figure.set_size_inches(7,5)\n",
    "ax.legend(fontsize=8, loc='upper left', bbox_to_anchor=(1, 1))\n",
    "ax.xaxis.grid(True)\n",
    "ax.set_ylabel('Track', fontsize=4)\n",
    "#plt.savefig('test.png', dpi=400)\n",
    "plt.show()"
   ]
  },
  {
   "cell_type": "code",
   "execution_count": 15,
   "metadata": {},
   "outputs": [
    {
     "data": {
      "text/html": [
       "<div>\n",
       "<style scoped>\n",
       "    .dataframe tbody tr th:only-of-type {\n",
       "        vertical-align: middle;\n",
       "    }\n",
       "\n",
       "    .dataframe tbody tr th {\n",
       "        vertical-align: top;\n",
       "    }\n",
       "\n",
       "    .dataframe thead th {\n",
       "        text-align: right;\n",
       "    }\n",
       "</style>\n",
       "<table border=\"1\" class=\"dataframe\">\n",
       "  <thead>\n",
       "    <tr style=\"text-align: right;\">\n",
       "      <th></th>\n",
       "      <th>Album</th>\n",
       "      <th>n_tracks</th>\n",
       "    </tr>\n",
       "  </thead>\n",
       "  <tbody>\n",
       "    <tr>\n",
       "      <th>0</th>\n",
       "      <td>#3</td>\n",
       "      <td>9</td>\n",
       "    </tr>\n",
       "    <tr>\n",
       "      <th>1</th>\n",
       "      <td>(What's the Story) Morning Glory? [Deluxe Edit...</td>\n",
       "      <td>9</td>\n",
       "    </tr>\n",
       "    <tr>\n",
       "      <th>2</th>\n",
       "      <td>1989 (Taylor's Version)</td>\n",
       "      <td>21</td>\n",
       "    </tr>\n",
       "    <tr>\n",
       "      <th>3</th>\n",
       "      <td>=</td>\n",
       "      <td>14</td>\n",
       "    </tr>\n",
       "    <tr>\n",
       "      <th>4</th>\n",
       "      <td>A Head Full Of Dreams</td>\n",
       "      <td>9</td>\n",
       "    </tr>\n",
       "    <tr>\n",
       "      <th>...</th>\n",
       "      <td>...</td>\n",
       "      <td>...</td>\n",
       "    </tr>\n",
       "    <tr>\n",
       "      <th>146</th>\n",
       "      <td>misery lake - EP</td>\n",
       "      <td>6</td>\n",
       "    </tr>\n",
       "    <tr>\n",
       "      <th>147</th>\n",
       "      <td>no future</td>\n",
       "      <td>19</td>\n",
       "    </tr>\n",
       "    <tr>\n",
       "      <th>148</th>\n",
       "      <td>reputation</td>\n",
       "      <td>7</td>\n",
       "    </tr>\n",
       "    <tr>\n",
       "      <th>149</th>\n",
       "      <td>vertigo</td>\n",
       "      <td>13</td>\n",
       "    </tr>\n",
       "    <tr>\n",
       "      <th>150</th>\n",
       "      <td>~How I'm Feeling~</td>\n",
       "      <td>29</td>\n",
       "    </tr>\n",
       "  </tbody>\n",
       "</table>\n",
       "<p>151 rows × 2 columns</p>\n",
       "</div>"
      ],
      "text/plain": [
       "                                                 Album  n_tracks\n",
       "0                                                   #3         9\n",
       "1    (What's the Story) Morning Glory? [Deluxe Edit...         9\n",
       "2                              1989 (Taylor's Version)        21\n",
       "3                                                    =        14\n",
       "4                                A Head Full Of Dreams         9\n",
       "..                                                 ...       ...\n",
       "146                                   misery lake - EP         6\n",
       "147                                          no future        19\n",
       "148                                         reputation         7\n",
       "149                                            vertigo        13\n",
       "150                                  ~How I'm Feeling~        29\n",
       "\n",
       "[151 rows x 2 columns]"
      ]
     },
     "execution_count": 15,
     "metadata": {},
     "output_type": "execute_result"
    }
   ],
   "source": [
    "ntracks_album=df_tracks.groupby('Album').size()\n",
    "full_albums=(ntracks_album[ntracks_album>5]\n",
    "             .reset_index()\n",
    "             .rename(columns={0: \"n_tracks\"}))\n",
    "full_albums"
   ]
  },
  {
   "cell_type": "code",
   "execution_count": 16,
   "metadata": {},
   "outputs": [
    {
     "data": {
      "text/html": [
       "<div>\n",
       "<style scoped>\n",
       "    .dataframe tbody tr th:only-of-type {\n",
       "        vertical-align: middle;\n",
       "    }\n",
       "\n",
       "    .dataframe tbody tr th {\n",
       "        vertical-align: top;\n",
       "    }\n",
       "\n",
       "    .dataframe thead th {\n",
       "        text-align: right;\n",
       "    }\n",
       "</style>\n",
       "<table border=\"1\" class=\"dataframe\">\n",
       "  <thead>\n",
       "    <tr style=\"text-align: right;\">\n",
       "      <th></th>\n",
       "      <th>Album</th>\n",
       "      <th>Play Count</th>\n",
       "    </tr>\n",
       "  </thead>\n",
       "  <tbody>\n",
       "    <tr>\n",
       "      <th>1550</th>\n",
       "      <td>ILLENIUM</td>\n",
       "      <td>311.0</td>\n",
       "    </tr>\n",
       "    <tr>\n",
       "      <th>1923</th>\n",
       "      <td>METRO BOOMIN PRESENTS SPIDER-MAN: ACROSS THE S...</td>\n",
       "      <td>294.0</td>\n",
       "    </tr>\n",
       "    <tr>\n",
       "      <th>3806</th>\n",
       "      <td>reputation</td>\n",
       "      <td>277.0</td>\n",
       "    </tr>\n",
       "    <tr>\n",
       "      <th>1050</th>\n",
       "      <td>Fallen Embers (Deluxe Version)</td>\n",
       "      <td>204.0</td>\n",
       "    </tr>\n",
       "    <tr>\n",
       "      <th>2788</th>\n",
       "      <td>Speak Now (Taylor's Version)</td>\n",
       "      <td>188.0</td>\n",
       "    </tr>\n",
       "    <tr>\n",
       "      <th>505</th>\n",
       "      <td>Blurryface</td>\n",
       "      <td>155.0</td>\n",
       "    </tr>\n",
       "    <tr>\n",
       "      <th>2591</th>\n",
       "      <td>Savages</td>\n",
       "      <td>151.0</td>\n",
       "    </tr>\n",
       "    <tr>\n",
       "      <th>3788</th>\n",
       "      <td>mainstream sellout (life in pink deluxe)</td>\n",
       "      <td>132.0</td>\n",
       "    </tr>\n",
       "    <tr>\n",
       "      <th>2609</th>\n",
       "      <td>Scaled And Icy (Livestream Version)</td>\n",
       "      <td>130.0</td>\n",
       "    </tr>\n",
       "    <tr>\n",
       "      <th>1525</th>\n",
       "      <td>I met you when I was 18. (the playlist)</td>\n",
       "      <td>124.0</td>\n",
       "    </tr>\n",
       "  </tbody>\n",
       "</table>\n",
       "</div>"
      ],
      "text/plain": [
       "                                                  Album  Play Count\n",
       "1550                                           ILLENIUM       311.0\n",
       "1923  METRO BOOMIN PRESENTS SPIDER-MAN: ACROSS THE S...       294.0\n",
       "3806                                         reputation       277.0\n",
       "1050                     Fallen Embers (Deluxe Version)       204.0\n",
       "2788                       Speak Now (Taylor's Version)       188.0\n",
       "505                                          Blurryface       155.0\n",
       "2591                                            Savages       151.0\n",
       "3788           mainstream sellout (life in pink deluxe)       132.0\n",
       "2609                Scaled And Icy (Livestream Version)       130.0\n",
       "1525            I met you when I was 18. (the playlist)       124.0"
      ]
     },
     "execution_count": 16,
     "metadata": {},
     "output_type": "execute_result"
    }
   ],
   "source": [
    "plays_by_album=(df_tracks\n",
    "                .groupby('Album')['Play Count']\n",
    "                .sum()\n",
    "                .reset_index()\n",
    "                .sort_values(by='Play Count', ascending=False))\n",
    "\n",
    "full_albums_ranked=plays_by_album[plays_by_album.Album.isin(full_albums.Album)]\n",
    "full_albums_ranked.head(10)"
   ]
  },
  {
   "cell_type": "code",
   "execution_count": 17,
   "metadata": {},
   "outputs": [
    {
     "data": {
      "image/png": "[encoded data removed]",
      "text/plain": [
       "<Figure size 640x480 with 1 Axes>"
      ]
     },
     "metadata": {},
     "output_type": "display_data"
    }
   ],
   "source": [
    "plt.clf()\n",
    "ax=sns.barplot(x='Play Count',\n",
    "               y='Album',\n",
    "               hue='Play Count',\n",
    "              data=full_albums_ranked.head(10),\n",
    "              dodge='auto',\n",
    "              palette='RdBu')\n",
    "ax.tick_params(axis='y', labelsize=6)\n",
    "ax.xaxis.grid(True)\n",
    "plt.show()"
   ]
  },
  {
   "cell_type": "code",
   "execution_count": 18,
   "metadata": {},
   "outputs": [
    {
     "data": {
      "text/plain": [
       "0                                [Nirvana]\n",
       "1                          [Fleetwood Mac]\n",
       "2                            [Michigander]\n",
       "3                          [You Me At Six]\n",
       "4                           [Zara Larsson]\n",
       "                       ...                \n",
       "6462    [Future, Metro Boomin, The Weeknd]\n",
       "6463                         [Soundgarden]\n",
       "6464                           [Soft Cell]\n",
       "6465                           [Pete Yorn]\n",
       "6466                            [Flo Rida]\n",
       "Name: Artist, Length: 6467, dtype: object"
      ]
     },
     "execution_count": 18,
     "metadata": {},
     "output_type": "execute_result"
    }
   ],
   "source": [
    "delimiters=' & ',', ',' Feat. ',' feat. ','/', ' feat ', 'Feat'\n",
    "regexPattern = '|'.join(map(re.escape, delimiters))\n",
    "reg_split=re.compile(regexPattern)\n",
    "artists_splitted=df_tracks.Artist.str.split(regexPattern)\n",
    "artists_splitted"
   ]
  },
  {
   "cell_type": "code",
   "execution_count": 19,
   "metadata": {},
   "outputs": [
    {
     "data": {
      "text/plain": [
       "[{'Name': 'About a Girl (Live Acoustic)', 'Number': 0, 'Artists': ['Nirvana']},\n",
       " {'Name': 'Go Your Own Way', 'Number': 1, 'Artists': ['Fleetwood Mac']},\n",
       " {'Name': 'Cannonball', 'Number': 2, 'Artists': ['Michigander']},\n",
       " {'Name': 'SUCKAPUNCH', 'Number': 3, 'Artists': ['You Me At Six']},\n",
       " {'Name': \"Can't Tame Her\", 'Number': 4, 'Artists': ['Zara Larsson']}]"
      ]
     },
     "execution_count": 19,
     "metadata": {},
     "output_type": "execute_result"
    }
   ],
   "source": [
    "songs=[]\n",
    "for i, song in df_tracks.Name.items():\n",
    "  ## Parse the artists of the song\n",
    "  if df_tracks.Artist.values[i]=='Now, Now':\n",
    "    artist_to_assign=[df_tracks.Artist.values[i]]\n",
    "  if df_tracks.Artist.values[i]=='AC/DC':\n",
    "    artist_to_assign=[df_tracks.Artist.values[i]]\n",
    "  else:\n",
    "    artist_to_assign=artists_splitted.values[i]\n",
    "\n",
    "  ## add elements to the list of songs\n",
    "  songs.append({'Name': song,\n",
    "                'Number': i,\n",
    "                'Artists': artist_to_assign})\n",
    "\n",
    "songs[:5]"
   ]
  },
  {
   "cell_type": "code",
   "execution_count": 20,
   "metadata": {},
   "outputs": [],
   "source": [
    "# One regex for each pattern variation: round brackets, squared brackets, and no brackets\n",
    "# Note how in the variations with brackets we have to look for the closing bracket, while in the \"bare\" variation we just extract everthying from \"feat.\" to the end of the string\n",
    "re_circ_brackets=re.compile(' \\(feat\\.* (.*)\\)')\n",
    "re_sq_brackets=re.compile(' \\[feat. ([^\\[]*)\\]')\n",
    "re_bare=re.compile(' feat. (.*)$')\n",
    "\n",
    "# Creating bolean arrays based on which of the pattern variations is present in the song name (note that it could be none)\n",
    "feat_curved_brackets=df_tracks.Name.str.contains('\\(feat.').values\n",
    "feat_squared_brackets=df_tracks.Name.str.contains('\\[feat.').values\n",
    "feat_bare=df_tracks.Name.str.contains(' feat.').values"
   ]
  },
  {
   "cell_type": "code",
   "execution_count": 21,
   "metadata": {},
   "outputs": [
    {
     "data": {
      "text/plain": [
       "dtype('float64')"
      ]
     },
     "execution_count": 21,
     "metadata": {},
     "output_type": "execute_result"
    }
   ],
   "source": [
    "df_tracks_clean = df_tracks.dropna(subset=['Play Count'])\n",
    "\n",
    "df_tracks_clean['Play Count'].dtype"
   ]
  },
  {
   "cell_type": "code",
   "execution_count": 22,
   "metadata": {},
   "outputs": [],
   "source": [
    "import re\n",
    "\n",
    "for i, song in df_tracks_clean['Name'].items():\n",
    "    artists_feat = ''  # Initialize artists_feat variable\n",
    "    if feat_curved_brackets[i]:\n",
    "        artists_feat = re.search(r'\\((.*?)\\)', song).group(1)\n",
    "    elif feat_squared_brackets[i]:\n",
    "        artists_feat = re.search(r'\\[(.*?)\\]', song).group(1)\n",
    "    elif feat_bare[i]:\n",
    "        try:\n",
    "            artists_feat = re.search(r'\\{(.*?)\\}', song).group(1)\n",
    "        except AttributeError:\n",
    "            pass  # Handle the case when no match is found\n",
    "\n",
    "    if artists_feat:  # Check if artists_feat is not an empty string\n",
    "        splitted_artists_feat = re.split(r',\\s*', artists_feat)\n",
    "        songs[i]['Artists'].extend(splitted_artists_feat)"
   ]
  },
  {
   "cell_type": "code",
   "execution_count": 23,
   "metadata": {},
   "outputs": [],
   "source": [
    "for i in range(len(songs)):\n",
    "  for j in range(len(songs[i]['Artists'])):\n",
    "    artist_name=songs[i]['Artists'][j]\n",
    "    norm_artist_name=artist_name.title().replace('.', '')\n",
    "    songs[i]['Artists'][j]=norm_artist_name\n"
   ]
  },
  {
   "cell_type": "code",
   "execution_count": 24,
   "metadata": {},
   "outputs": [],
   "source": [
    "for i in range(len(songs)):\n",
    "  for j in range(len(songs[i]['Artists'])):\n",
    "    artist_name=songs[i]['Artists'][j]\n",
    "    norm_artist_name=artist_name.title().replace('.', '')\n",
    "    songs[i]['Artists'][j]=norm_artist_name\n"
   ]
  },
  {
   "cell_type": "code",
   "execution_count": 25,
   "metadata": {},
   "outputs": [],
   "source": [
    "for i in range(len(songs)):\n",
    "  for j in range(len(songs[i]['Artists'])):\n",
    "    artist_name=songs[i]['Artists'][j]\n",
    "    norm_artist_name=artist_name.title().replace('.', '')\n",
    "    songs[i]['Artists'][j]=norm_artist_name\n"
   ]
  },
  {
   "cell_type": "code",
   "execution_count": 26,
   "metadata": {},
   "outputs": [
    {
     "data": {
      "text/html": [
       "<div>\n",
       "<style scoped>\n",
       "    .dataframe tbody tr th:only-of-type {\n",
       "        vertical-align: middle;\n",
       "    }\n",
       "\n",
       "    .dataframe tbody tr th {\n",
       "        vertical-align: top;\n",
       "    }\n",
       "\n",
       "    .dataframe thead th {\n",
       "        text-align: right;\n",
       "    }\n",
       "</style>\n",
       "<table border=\"1\" class=\"dataframe\">\n",
       "  <thead>\n",
       "    <tr style=\"text-align: right;\">\n",
       "      <th></th>\n",
       "      <th>Artist</th>\n",
       "      <th>Play Count</th>\n",
       "    </tr>\n",
       "  </thead>\n",
       "  <tbody>\n",
       "    <tr>\n",
       "      <th>0</th>\n",
       "      <td>Nirvana</td>\n",
       "      <td>NaN</td>\n",
       "    </tr>\n",
       "    <tr>\n",
       "      <th>1</th>\n",
       "      <td>Fleetwood Mac</td>\n",
       "      <td>NaN</td>\n",
       "    </tr>\n",
       "    <tr>\n",
       "      <th>2</th>\n",
       "      <td>Michigander</td>\n",
       "      <td>NaN</td>\n",
       "    </tr>\n",
       "    <tr>\n",
       "      <th>3</th>\n",
       "      <td>You Me At Six</td>\n",
       "      <td>NaN</td>\n",
       "    </tr>\n",
       "    <tr>\n",
       "      <th>4</th>\n",
       "      <td>Zara Larsson</td>\n",
       "      <td>NaN</td>\n",
       "    </tr>\n",
       "  </tbody>\n",
       "</table>\n",
       "</div>"
      ],
      "text/plain": [
       "          Artist  Play Count\n",
       "0        Nirvana         NaN\n",
       "1  Fleetwood Mac         NaN\n",
       "2    Michigander         NaN\n",
       "3  You Me At Six         NaN\n",
       "4   Zara Larsson         NaN"
      ]
     },
     "execution_count": 26,
     "metadata": {},
     "output_type": "execute_result"
    }
   ],
   "source": [
    "artists={}\n",
    "\n",
    "for i in range(len(songs)):\n",
    "  for j in range(len(songs[i]['Artists'])):\n",
    "    if songs[i]['Artists'][j] not in artists:\n",
    "      artists[songs[i]['Artists'][j]]=df_tracks['Play Count'][i]\n",
    "    else:\n",
    "      artists[songs[i]['Artists'][j]]+=df_tracks['Play Count'][i]\n",
    "\n",
    "df_artists_plays=pd.DataFrame(artists.items(),\n",
    "                              columns=['Artist', 'Play Count'])\n",
    "\n",
    "df_artists_plays.head(5)"
   ]
  },
  {
   "cell_type": "code",
   "execution_count": 27,
   "metadata": {},
   "outputs": [
    {
     "data": {
      "text/html": [
       "<div>\n",
       "<style scoped>\n",
       "    .dataframe tbody tr th:only-of-type {\n",
       "        vertical-align: middle;\n",
       "    }\n",
       "\n",
       "    .dataframe tbody tr th {\n",
       "        vertical-align: top;\n",
       "    }\n",
       "\n",
       "    .dataframe thead th {\n",
       "        text-align: right;\n",
       "    }\n",
       "</style>\n",
       "<table border=\"1\" class=\"dataframe\">\n",
       "  <thead>\n",
       "    <tr style=\"text-align: right;\">\n",
       "      <th></th>\n",
       "      <th>Artist</th>\n",
       "      <th>Play Count</th>\n",
       "    </tr>\n",
       "  </thead>\n",
       "  <tbody>\n",
       "    <tr>\n",
       "      <th>447</th>\n",
       "      <td>Taylor Swift</td>\n",
       "      <td>1093.0</td>\n",
       "    </tr>\n",
       "    <tr>\n",
       "      <th>131</th>\n",
       "      <td>Illenium</td>\n",
       "      <td>909.0</td>\n",
       "    </tr>\n",
       "    <tr>\n",
       "      <th>133</th>\n",
       "      <td>Twenty One Pilots</td>\n",
       "      <td>645.0</td>\n",
       "    </tr>\n",
       "    <tr>\n",
       "      <th>170</th>\n",
       "      <td>Linkin Park</td>\n",
       "      <td>637.0</td>\n",
       "    </tr>\n",
       "    <tr>\n",
       "      <th>161</th>\n",
       "      <td>Logic</td>\n",
       "      <td>364.0</td>\n",
       "    </tr>\n",
       "    <tr>\n",
       "      <th>148</th>\n",
       "      <td>Eminem</td>\n",
       "      <td>356.0</td>\n",
       "    </tr>\n",
       "    <tr>\n",
       "      <th>178</th>\n",
       "      <td>The Weeknd</td>\n",
       "      <td>352.0</td>\n",
       "    </tr>\n",
       "    <tr>\n",
       "      <th>219</th>\n",
       "      <td>Mgk</td>\n",
       "      <td>351.0</td>\n",
       "    </tr>\n",
       "    <tr>\n",
       "      <th>467</th>\n",
       "      <td>Onerepublic</td>\n",
       "      <td>349.0</td>\n",
       "    </tr>\n",
       "    <tr>\n",
       "      <th>125</th>\n",
       "      <td>Lauv</td>\n",
       "      <td>345.0</td>\n",
       "    </tr>\n",
       "  </tbody>\n",
       "</table>\n",
       "</div>"
      ],
      "text/plain": [
       "                Artist  Play Count\n",
       "447       Taylor Swift      1093.0\n",
       "131           Illenium       909.0\n",
       "133  Twenty One Pilots       645.0\n",
       "170        Linkin Park       637.0\n",
       "161              Logic       364.0\n",
       "148             Eminem       356.0\n",
       "178         The Weeknd       352.0\n",
       "219                Mgk       351.0\n",
       "467        Onerepublic       349.0\n",
       "125               Lauv       345.0"
      ]
     },
     "execution_count": 27,
     "metadata": {},
     "output_type": "execute_result"
    }
   ],
   "source": [
    "df_artists_plot=(df_artists_plays\n",
    "                 .sort_values(by='Play Count', ascending=False)\n",
    "                 .head(10))\n",
    "\n",
    "df_artists_plot"
   ]
  },
  {
   "cell_type": "code",
   "execution_count": 28,
   "metadata": {},
   "outputs": [
    {
     "data": {
      "image/png": "[encoded data removed]",
      "text/plain": [
       "<Figure size 700x500 with 1 Axes>"
      ]
     },
     "metadata": {},
     "output_type": "display_data"
    }
   ],
   "source": [
    "plt.clf()\n",
    "ax=sns.barplot(x='Play Count',\n",
    "               y='Artist',\n",
    "               hue='Play Count',\n",
    "              data=df_artists_plot,\n",
    "              dodge=False,\n",
    "              palette='Set2')\n",
    "\n",
    "# Rotating labels trying to make them fit\n",
    "ax.figure.set_size_inches(7,5)\n",
    "ax.xaxis.grid(True)\n",
    "plt.title('My Top 10 artists by play count')\n",
    "plt.tight_layout()\n",
    "plt.legend([],[], frameon=False)\n",
    "plt.show()"
   ]
  },
  {
   "cell_type": "code",
   "execution_count": 29,
   "metadata": {},
   "outputs": [],
   "source": [
    "df_tracks[['Year']]=df_tracks[['Year']].apply(pd.to_numeric)\n",
    "\n",
    "df_tracks=(df_tracks\n",
    ".assign(FiveYearPeriod=pd.to_numeric(np.floor(df_tracks.Year / 5) * 5, downcast='integer')))"
   ]
  },
  {
   "cell_type": "code",
   "execution_count": 30,
   "metadata": {},
   "outputs": [
    {
     "data": {
      "text/plain": [
       "FiveYearPeriod\n",
       "1900       1\n",
       "1945       1\n",
       "1950       4\n",
       "1955       4\n",
       "1960       5\n",
       "1965      59\n",
       "1970     104\n",
       "1975     126\n",
       "1980     145\n",
       "1985     120\n",
       "1990     133\n",
       "1995     158\n",
       "2000     426\n",
       "2005     531\n",
       "2010    1185\n",
       "2015    1459\n",
       "2020    2006\n",
       "dtype: int64"
      ]
     },
     "execution_count": 30,
     "metadata": {},
     "output_type": "execute_result"
    }
   ],
   "source": [
    "df_tracks.groupby(\"FiveYearPeriod\").size()\n"
   ]
  },
  {
   "cell_type": "code",
   "execution_count": 31,
   "metadata": {},
   "outputs": [],
   "source": [
    "catg_years=pd.Categorical(df_tracks.FiveYearPeriod,\n",
    "               ordered=True,\n",
    "               categories=['Before 1995', 1995, 2000, 2005, 2010, 2015, 2020])\n",
    "\n",
    "df_tracks.FiveYearPeriod=catg_years.rename_categories({1995: '1995-1999', 2000: '2000-2004', 2005: '2005-2009', 2010: '2010-2014', 2015: '2015-2019', 2020: '2020-Present'})"
   ]
  },
  {
   "cell_type": "code",
   "execution_count": 32,
   "metadata": {},
   "outputs": [
    {
     "data": {
      "text/plain": [
       "FiveYearPeriod\n",
       "Before 1995        0\n",
       "1995-1999        158\n",
       "2000-2004        426\n",
       "2005-2009        531\n",
       "2010-2014       1185\n",
       "2015-2019       1459\n",
       "2020-Present    2006\n",
       "dtype: int64"
      ]
     },
     "execution_count": 32,
     "metadata": {},
     "output_type": "execute_result"
    }
   ],
   "source": [
    "songs_period=df_tracks.groupby(['FiveYearPeriod']).size()\n",
    "songs_period"
   ]
  },
  {
   "cell_type": "code",
   "execution_count": 37,
   "metadata": {},
   "outputs": [
    {
     "ename": "AttributeError",
     "evalue": "'Series' object has no attribute 'show'",
     "output_type": "error",
     "traceback": [
      "\u001b[0;31m---------------------------------------------------------------------------\u001b[0m",
      "\u001b[0;31mAttributeError\u001b[0m                            Traceback (most recent call last)",
      "\u001b[0;32m/var/folders/_x/0c804h654_7c0mdj3h5l5j1h0000gn/T/ipykernel_25773/3610351612.py\u001b[0m in \u001b[0;36m?\u001b[0;34m()\u001b[0m\n\u001b[0;32m----> 2\u001b[0;31m \u001b[0mplays_period\u001b[0m\u001b[0;34m=\u001b[0m\u001b[0mdf_tracks\u001b[0m\u001b[0;34m.\u001b[0m\u001b[0mgroupby\u001b[0m\u001b[0;34m(\u001b[0m\u001b[0;34m[\u001b[0m\u001b[0;34m'FiveYearPeriod'\u001b[0m\u001b[0;34m]\u001b[0m\u001b[0;34m)\u001b[0m\u001b[0;34m[\u001b[0m\u001b[0;34m'Play Count'\u001b[0m\u001b[0;34m]\u001b[0m\u001b[0;34m.\u001b[0m\u001b[0mmean\u001b[0m\u001b[0;34m(\u001b[0m\u001b[0;34m)\u001b[0m\u001b[0;34m\u001b[0m\u001b[0;34m\u001b[0m\u001b[0m\n\u001b[0m\u001b[1;32m      3\u001b[0m \u001b[0mplays_period\u001b[0m\u001b[0;34m.\u001b[0m\u001b[0mshow\u001b[0m\u001b[0;34m(\u001b[0m\u001b[0;34m)\u001b[0m\u001b[0;34m\u001b[0m\u001b[0;34m\u001b[0m\u001b[0m\n",
      "\u001b[0;32m~/Library/Python/3.9/lib/python/site-packages/pandas/core/generic.py\u001b[0m in \u001b[0;36m?\u001b[0;34m(self, name)\u001b[0m\n\u001b[1;32m   6200\u001b[0m             \u001b[0;32mand\u001b[0m \u001b[0mname\u001b[0m \u001b[0;32mnot\u001b[0m \u001b[0;32min\u001b[0m \u001b[0mself\u001b[0m\u001b[0;34m.\u001b[0m\u001b[0m_accessors\u001b[0m\u001b[0;34m\u001b[0m\u001b[0;34m\u001b[0m\u001b[0m\n\u001b[1;32m   6201\u001b[0m             \u001b[0;32mand\u001b[0m \u001b[0mself\u001b[0m\u001b[0;34m.\u001b[0m\u001b[0m_info_axis\u001b[0m\u001b[0;34m.\u001b[0m\u001b[0m_can_hold_identifiers_and_holds_name\u001b[0m\u001b[0;34m(\u001b[0m\u001b[0mname\u001b[0m\u001b[0;34m)\u001b[0m\u001b[0;34m\u001b[0m\u001b[0;34m\u001b[0m\u001b[0m\n\u001b[1;32m   6202\u001b[0m         ):\n\u001b[1;32m   6203\u001b[0m             \u001b[0;32mreturn\u001b[0m \u001b[0mself\u001b[0m\u001b[0;34m[\u001b[0m\u001b[0mname\u001b[0m\u001b[0;34m]\u001b[0m\u001b[0;34m\u001b[0m\u001b[0;34m\u001b[0m\u001b[0m\n\u001b[0;32m-> 6204\u001b[0;31m         \u001b[0;32mreturn\u001b[0m \u001b[0mobject\u001b[0m\u001b[0;34m.\u001b[0m\u001b[0m__getattribute__\u001b[0m\u001b[0;34m(\u001b[0m\u001b[0mself\u001b[0m\u001b[0;34m,\u001b[0m \u001b[0mname\u001b[0m\u001b[0;34m)\u001b[0m\u001b[0;34m\u001b[0m\u001b[0;34m\u001b[0m\u001b[0m\n\u001b[0m",
      "\u001b[0;31mAttributeError\u001b[0m: 'Series' object has no attribute 'show'"
     ]
    }
   ],
   "source": [
    "plays_period=df_tracks.groupby(['FiveYearPeriod'])['Play Count'].mean()\n",
    "plays_period.show()"
   ]
  },
  {
   "cell_type": "code",
   "execution_count": 36,
   "metadata": {},
   "outputs": [
    {
     "name": "stderr",
     "output_type": "stream",
     "text": [
      "posx and posy should be finite values\n",
      "posx and posy should be finite values\n",
      "posx and posy should be finite values\n"
     ]
    },
    {
     "data": {
      "text/plain": [
       "<Figure size 640x480 with 0 Axes>"
      ]
     },
     "metadata": {},
     "output_type": "display_data"
    },
    {
     "name": "stderr",
     "output_type": "stream",
     "text": [
      "posx and posy should be finite values\n",
      "posx and posy should be finite values\n"
     ]
    },
    {
     "data": {
      "image/png": "[encoded data removed]",
      "text/plain": [
       "<Figure size 640x480 with 2 Axes>"
      ]
     },
     "metadata": {},
     "output_type": "display_data"
    }
   ],
   "source": [
    "\n",
    "\n",
    "plt.clf()\n",
    "fig, ax1 = plt.subplots()\n",
    "sns1=sns.barplot(x=songs_period.index, y=songs_period.values, alpha=0.5)\n",
    "\n",
    "# Adding labels to bar plot\n",
    "for a, b in zip(songs_period.index, songs_period.values):\n",
    "  plt.text(x = a, y = b+5, s = '{:.0f}'.format(b), size=7, color='black', ha='center')\n",
    "\n",
    "\n",
    "ax2 = ax1.twinx()\n",
    "sns2=sns.lineplot(x=plays_period.index, y=plays_period.values, marker='o')\n",
    "sns2.set_ylim(0, 21)\n",
    "\n",
    "sns1.set(xlabel='Periods', ylabel='Total songs')\n",
    "sns2.set_ylabel('Average Play count', rotation=270, labelpad=12.0)\n",
    "sns1.set_xticklabels(sns1.get_xticklabels(),rotation = 30)\n",
    "\n",
    "# Adding labels to line plot\n",
    "for x, y in zip(plays_period.index, plays_period.values):\n",
    "  plt.text(x = x, y = y, s = '{:.1f}'.format(y), size=8, color='white', ha='center').set_backgroundcolor('#3A87BC')\n",
    "\n",
    "sns1.set(title='Number of songs and Average Play count by era')\n",
    "plt.tight_layout()\n",
    "plt.savefig('fig_twop_plots.png')\n",
    "plt.show()"
   ]
  },
  {
   "cell_type": "code",
   "execution_count": null,
   "metadata": {},
   "outputs": [],
   "source": []
  },
  {
   "cell_type": "code",
   "execution_count": null,
   "metadata": {},
   "outputs": [],
   "source": [
    "\n",
    "plt.clf()\n",
    "fig, ax1 = plt.subplots()\n",
    "sns1=sns.barplot(x=songs_period.index, y=songs_period.values, alpha=0.5)\n",
    "\n",
    "# Adding labels to bar plot\n",
    "for a, b in zip(songs_period.index, songs_period.values):\n",
    "  plt.text(x = a, y = b+5, s = '{:.0f}'.format(b), size=7, color='black', ha='center')\n",
    "\n",
    "\n",
    "ax2 = ax1.twinx()\n",
    "sns2=sns.lineplot(x=plays_period.index, y=plays_period.values, marker='o')\n",
    "sns2.set_ylim(0, 21)\n",
    "\n",
    "sns1.set(xlabel='Periods', ylabel='Total songs')\n",
    "sns2.set_ylabel('Average Play count', rotation=270, labelpad=12.0)\n",
    "sns1.set_xticklabels(sns1.get_xticklabels(),rotation = 30)\n",
    "\n",
    "# Adding labels to line plot\n",
    "for x, y in zip(plays_period.index, plays_period.values):\n",
    "  plt.text(x = x, y = y, s = '{:.1f}'.format(y), size=8, color='white', ha='center').set_backgroundcolor('#3A87BC')\n",
    "\n",
    "sns1.set(title='Number of songs and Average Play count by era')\n",
    "plt.tight_layout()\n",
    "plt.savefig('fig_twop_plots.png')\n",
    "plt.show()"
   ]
  },
  {
   "cell_type": "code",
   "execution_count": 34,
   "metadata": {},
   "outputs": [
    {
     "data": {
      "text/plain": [
       "Genres_lumped\n",
       "Other          1905\n",
       "Pop            1829\n",
       "Alternative    1437\n",
       "Rock            956\n",
       "Dance           340\n",
       "Name: count, dtype: int64"
      ]
     },
     "execution_count": 34,
     "metadata": {},
     "output_type": "execute_result"
    }
   ],
   "source": [
    "df_tracks['Genres_lumped']=pycats.cat_lump(pycats.as_cat(df_tracks['Genre']), 4)\n",
    "df_tracks['Genres_lumped'].value_counts()"
   ]
  },
  {
   "cell_type": "code",
   "execution_count": 35,
   "metadata": {},
   "outputs": [
    {
     "ename": "ValueError",
     "evalue": "The palette dictionary is missing keys: {'Dance'}",
     "output_type": "error",
     "traceback": [
      "\u001b[0;31m---------------------------------------------------------------------------\u001b[0m",
      "\u001b[0;31mValueError\u001b[0m                                Traceback (most recent call last)",
      "Cell \u001b[0;32mIn[35], line 7\u001b[0m\n\u001b[1;32m      4\u001b[0m plt\u001b[38;5;241m.\u001b[39mfigure()\n\u001b[1;32m      6\u001b[0m \u001b[38;5;66;03m# Draw a categorical scatterplot to show each observation\u001b[39;00m\n\u001b[0;32m----> 7\u001b[0m ax \u001b[38;5;241m=\u001b[39m \u001b[43msns\u001b[49m\u001b[38;5;241;43m.\u001b[39;49m\u001b[43mstripplot\u001b[49m\u001b[43m(\u001b[49m\u001b[43mdata\u001b[49m\u001b[38;5;241;43m=\u001b[39;49m\u001b[43mdf_tracks\u001b[49m\u001b[43m,\u001b[49m\u001b[43m \u001b[49m\u001b[43my\u001b[49m\u001b[38;5;241;43m=\u001b[39;49m\u001b[38;5;124;43m\"\u001b[39;49m\u001b[38;5;124;43mPlay Count\u001b[39;49m\u001b[38;5;124;43m\"\u001b[39;49m\u001b[43m,\u001b[49m\u001b[43m \u001b[49m\u001b[43mx\u001b[49m\u001b[38;5;241;43m=\u001b[39;49m\u001b[38;5;124;43m\"\u001b[39;49m\u001b[38;5;124;43mFiveYearPeriod\u001b[39;49m\u001b[38;5;124;43m\"\u001b[39;49m\u001b[43m,\u001b[49m\u001b[43m \u001b[49m\u001b[43mhue\u001b[49m\u001b[38;5;241;43m=\u001b[39;49m\u001b[38;5;124;43m\"\u001b[39;49m\u001b[38;5;124;43mGenres_lumped\u001b[39;49m\u001b[38;5;124;43m\"\u001b[39;49m\u001b[43m,\u001b[49m\u001b[43m \u001b[49m\u001b[43msize\u001b[49m\u001b[38;5;241;43m=\u001b[39;49m\u001b[38;5;241;43m5\u001b[39;49m\u001b[43m,\u001b[49m\u001b[43m \u001b[49m\u001b[43malpha\u001b[49m\u001b[38;5;241;43m=\u001b[39;49m\u001b[38;5;241;43m0.7\u001b[39;49m\u001b[43m,\u001b[49m\u001b[43m \u001b[49m\u001b[43mjitter\u001b[49m\u001b[38;5;241;43m=\u001b[39;49m\u001b[38;5;241;43m0.25\u001b[39;49m\u001b[43m,\u001b[49m\u001b[43m \u001b[49m\u001b[43mpalette\u001b[49m\u001b[38;5;241;43m=\u001b[39;49m\u001b[43mcolors\u001b[49m\u001b[43m)\u001b[49m\n\u001b[1;32m      8\u001b[0m ax\u001b[38;5;241m.\u001b[39mset_xticklabels(ax\u001b[38;5;241m.\u001b[39mget_xticklabels(),rotation \u001b[38;5;241m=\u001b[39m \u001b[38;5;241m30\u001b[39m)\n\u001b[1;32m      9\u001b[0m ax\u001b[38;5;241m.\u001b[39mlegend(title\u001b[38;5;241m=\u001b[39m\u001b[38;5;124m'\u001b[39m\u001b[38;5;124mGenres\u001b[39m\u001b[38;5;124m'\u001b[39m)\n",
      "File \u001b[0;32m~/Library/Python/3.9/lib/python/site-packages/seaborn/categorical.py:2106\u001b[0m, in \u001b[0;36mstripplot\u001b[0;34m(data, x, y, hue, order, hue_order, jitter, dodge, orient, color, palette, size, edgecolor, linewidth, hue_norm, log_scale, native_scale, formatter, legend, ax, **kwargs)\u001b[0m\n\u001b[1;32m   2103\u001b[0m hue_order \u001b[38;5;241m=\u001b[39m p\u001b[38;5;241m.\u001b[39m_palette_without_hue_backcompat(palette, hue_order)\n\u001b[1;32m   2104\u001b[0m palette, hue_order \u001b[38;5;241m=\u001b[39m p\u001b[38;5;241m.\u001b[39m_hue_backcompat(color, palette, hue_order)\n\u001b[0;32m-> 2106\u001b[0m \u001b[43mp\u001b[49m\u001b[38;5;241;43m.\u001b[39;49m\u001b[43mmap_hue\u001b[49m\u001b[43m(\u001b[49m\u001b[43mpalette\u001b[49m\u001b[38;5;241;43m=\u001b[39;49m\u001b[43mpalette\u001b[49m\u001b[43m,\u001b[49m\u001b[43m \u001b[49m\u001b[43morder\u001b[49m\u001b[38;5;241;43m=\u001b[39;49m\u001b[43mhue_order\u001b[49m\u001b[43m,\u001b[49m\u001b[43m \u001b[49m\u001b[43mnorm\u001b[49m\u001b[38;5;241;43m=\u001b[39;49m\u001b[43mhue_norm\u001b[49m\u001b[43m)\u001b[49m\n\u001b[1;32m   2107\u001b[0m color \u001b[38;5;241m=\u001b[39m _default_color(ax\u001b[38;5;241m.\u001b[39mscatter, hue, color, kwargs)\n\u001b[1;32m   2108\u001b[0m edgecolor \u001b[38;5;241m=\u001b[39m p\u001b[38;5;241m.\u001b[39m_complement_color(edgecolor, color, p\u001b[38;5;241m.\u001b[39m_hue_map)\n",
      "File \u001b[0;32m~/Library/Python/3.9/lib/python/site-packages/seaborn/_base.py:838\u001b[0m, in \u001b[0;36mVectorPlotter.map_hue\u001b[0;34m(self, palette, order, norm, saturation)\u001b[0m\n\u001b[1;32m    837\u001b[0m \u001b[38;5;28;01mdef\u001b[39;00m \u001b[38;5;21mmap_hue\u001b[39m(\u001b[38;5;28mself\u001b[39m, palette\u001b[38;5;241m=\u001b[39m\u001b[38;5;28;01mNone\u001b[39;00m, order\u001b[38;5;241m=\u001b[39m\u001b[38;5;28;01mNone\u001b[39;00m, norm\u001b[38;5;241m=\u001b[39m\u001b[38;5;28;01mNone\u001b[39;00m, saturation\u001b[38;5;241m=\u001b[39m\u001b[38;5;241m1\u001b[39m):\n\u001b[0;32m--> 838\u001b[0m     mapping \u001b[38;5;241m=\u001b[39m \u001b[43mHueMapping\u001b[49m\u001b[43m(\u001b[49m\u001b[38;5;28;43mself\u001b[39;49m\u001b[43m,\u001b[49m\u001b[43m \u001b[49m\u001b[43mpalette\u001b[49m\u001b[43m,\u001b[49m\u001b[43m \u001b[49m\u001b[43morder\u001b[49m\u001b[43m,\u001b[49m\u001b[43m \u001b[49m\u001b[43mnorm\u001b[49m\u001b[43m,\u001b[49m\u001b[43m \u001b[49m\u001b[43msaturation\u001b[49m\u001b[43m)\u001b[49m\n\u001b[1;32m    839\u001b[0m     \u001b[38;5;28mself\u001b[39m\u001b[38;5;241m.\u001b[39m_hue_map \u001b[38;5;241m=\u001b[39m mapping\n",
      "File \u001b[0;32m~/Library/Python/3.9/lib/python/site-packages/seaborn/_base.py:150\u001b[0m, in \u001b[0;36mHueMapping.__init__\u001b[0;34m(self, plotter, palette, order, norm, saturation)\u001b[0m\n\u001b[1;32m    147\u001b[0m \u001b[38;5;28;01melif\u001b[39;00m map_type \u001b[38;5;241m==\u001b[39m \u001b[38;5;124m\"\u001b[39m\u001b[38;5;124mcategorical\u001b[39m\u001b[38;5;124m\"\u001b[39m:\n\u001b[1;32m    149\u001b[0m     cmap \u001b[38;5;241m=\u001b[39m norm \u001b[38;5;241m=\u001b[39m \u001b[38;5;28;01mNone\u001b[39;00m\n\u001b[0;32m--> 150\u001b[0m     levels, lookup_table \u001b[38;5;241m=\u001b[39m \u001b[38;5;28;43mself\u001b[39;49m\u001b[38;5;241;43m.\u001b[39;49m\u001b[43mcategorical_mapping\u001b[49m\u001b[43m(\u001b[49m\n\u001b[1;32m    151\u001b[0m \u001b[43m        \u001b[49m\u001b[43mdata\u001b[49m\u001b[43m,\u001b[49m\u001b[43m \u001b[49m\u001b[43mpalette\u001b[49m\u001b[43m,\u001b[49m\u001b[43m \u001b[49m\u001b[43morder\u001b[49m\u001b[43m,\u001b[49m\n\u001b[1;32m    152\u001b[0m \u001b[43m    \u001b[49m\u001b[43m)\u001b[49m\n\u001b[1;32m    154\u001b[0m \u001b[38;5;66;03m# --- Option 3: datetime mapping\u001b[39;00m\n\u001b[1;32m    155\u001b[0m \n\u001b[1;32m    156\u001b[0m \u001b[38;5;28;01melse\u001b[39;00m:\n\u001b[1;32m    157\u001b[0m     \u001b[38;5;66;03m# TODO this needs actual implementation\u001b[39;00m\n\u001b[1;32m    158\u001b[0m     cmap \u001b[38;5;241m=\u001b[39m norm \u001b[38;5;241m=\u001b[39m \u001b[38;5;28;01mNone\u001b[39;00m\n",
      "File \u001b[0;32m~/Library/Python/3.9/lib/python/site-packages/seaborn/_base.py:234\u001b[0m, in \u001b[0;36mHueMapping.categorical_mapping\u001b[0;34m(self, data, palette, order)\u001b[0m\n\u001b[1;32m    232\u001b[0m     \u001b[38;5;28;01mif\u001b[39;00m \u001b[38;5;28many\u001b[39m(missing):\n\u001b[1;32m    233\u001b[0m         err \u001b[38;5;241m=\u001b[39m \u001b[38;5;124m\"\u001b[39m\u001b[38;5;124mThe palette dictionary is missing keys: \u001b[39m\u001b[38;5;132;01m{}\u001b[39;00m\u001b[38;5;124m\"\u001b[39m\n\u001b[0;32m--> 234\u001b[0m         \u001b[38;5;28;01mraise\u001b[39;00m \u001b[38;5;167;01mValueError\u001b[39;00m(err\u001b[38;5;241m.\u001b[39mformat(missing))\n\u001b[1;32m    236\u001b[0m     lookup_table \u001b[38;5;241m=\u001b[39m palette\n\u001b[1;32m    238\u001b[0m \u001b[38;5;28;01melse\u001b[39;00m:\n",
      "\u001b[0;31mValueError\u001b[0m: The palette dictionary is missing keys: {'Dance'}"
     ]
    },
    {
     "data": {
      "text/plain": [
       "<Figure size 640x480 with 0 Axes>"
      ]
     },
     "metadata": {},
     "output_type": "display_data"
    },
    {
     "data": {
      "image/png": "[encoded data removed]",
      "text/plain": [
       "<Figure size 640x480 with 1 Axes>"
      ]
     },
     "metadata": {},
     "output_type": "display_data"
    }
   ],
   "source": [
    "colors = {'Other': \"grey\", 'Pop': \"#4878CF\", 'Alternative': \"#ffb300\", 'Rock':\"#D65F5F\", 'Urbano latino': \"#B47CC7\"}\n",
    "\n",
    "plt.clf()\n",
    "plt.figure()\n",
    "\n",
    "# Draw a categorical scatterplot to show each observation\n",
    "ax = sns.stripplot(data=df_tracks, y=\"Play Count\", x=\"FiveYearPeriod\", hue=\"Genres_lumped\", size=5, alpha=0.7, jitter=0.25, palette=colors)\n",
    "ax.set_xticklabels(ax.get_xticklabels(),rotation = 30)\n",
    "ax.legend(title='Genres')\n",
    "plt.title('Play count of my songs, by era and genre')\n",
    "plt.tight_layout()\n",
    "plt.show()"
   ]
  },
  {
   "cell_type": "code",
   "execution_count": null,
   "metadata": {},
   "outputs": [],
   "source": []
  }
 ],
 "metadata": {
  "kernelspec": {
   "display_name": "Python 3 (ipykernel)",
   "language": "python",
   "name": "python3"
  },
  "language_info": {
   "codemirror_mode": {
    "name": "ipython",
    "version": 3
   },
   "file_extension": ".py",
   "mimetype": "text/x-python",
   "name": "python",
   "nbconvert_exporter": "python",
   "pygments_lexer": "ipython3",
   "version": "3.9.6"
  }
 },
 "nbformat": 4,
 "nbformat_minor": 4
}
